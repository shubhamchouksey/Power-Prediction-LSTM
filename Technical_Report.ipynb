{
 "cells": [
  {
   "cell_type": "markdown",
   "metadata": {},
   "source": [
    "## Predicting Power Generation using Linear Regression and LSTM"
   ]
  },
  {
   "cell_type": "markdown",
   "metadata": {},
   "source": [
    "## Data  \n",
    "**power_actual**\n",
    "- This file contains the solar generation of a certain plant from October 1st, 2017 to September 30th, 2019.\n",
    "- You'll find the following columns: 'power', 'gti' and 'ghi'. Power is the actual power generated while GHI (Global Horizontal Irradiance) and GTI (Global Tilt Irradiance) are the parameters relevant to the that define the radiation received from the sun.\n",
    "\n",
    "**weather_actuals**\n",
    "- This file contains the weather data of the same plant from October 1st, 2017 to September 30th, 2019.\n",
    "- The columns' names are self-explanatory.\n",
    "\n",
    "**weather_forecast**\n",
    "- This file contains the weather data from October 1st, 2019 to October 27th, 2019. \n",
    "\n",
    "You need to predict the generation of power of the given plan in this duration: October 1st, 2019 to October 27th, 2019. "
   ]
  },
  {
   "cell_type": "markdown",
   "metadata": {},
   "source": [
    "## Metrics¶\n",
    "The metric used for predictions was Power"
   ]
  },
  {
   "cell_type": "markdown",
   "metadata": {},
   "source": [
    "## Data cleaning¶\n",
    "The raw data had the following issues:\n",
    "\n",
    "- weather data are in datetime each hour a day with a 15 min of interval and solar generation data are in each hour interval a day.\n",
    "- Some negative values (such as -99999) for features that should only have positive values\n",
    "- Missing data\n",
    "- Unneeded columns\n",
    "- some outliers\n",
    "\n",
    "To get the data into usable form, I did the following steps:\n",
    "\n",
    "- grouping weather data on year of month of day of hour by applying sum over each 15 min to get data on hourly basis.\n",
    "- Set negative values to median of a column \n",
    "- Dropped extra datetime data found on power data as per weather data.\n",
    "- Dropped unneeded columns having all null values\n",
    "- Removed and imputed outliers by updating with its previous datetime duration power"
   ]
  },
  {
   "cell_type": "markdown",
   "metadata": {},
   "source": [
    "## Exploratory Data Analysis\n",
    "\n",
    "### Predictors over time\n",
    "![](img/1.png)\n",
    "\n",
    "### Correlation coefficients of all features\n",
    "The correlation matrix shows some multicollinearity between variables, as well as many weak correlations.     \n",
    "\n",
    "![](img/2.png)"
   ]
  },
  {
   "cell_type": "markdown",
   "metadata": {},
   "source": [
    "## Feature Engineering¶\n",
    "\n",
    "on the basis of correlation, only selective numeric features were selected and for categorical features select `icon` and `humidity` fields"
   ]
  },
  {
   "cell_type": "markdown",
   "metadata": {},
   "source": [
    "## Modeling\n",
    "\n",
    "### Linear Regression\n",
    "Predictions were made using an Linear Regression\n",
    "\n",
    "### LSTM (long short-term memory) RNN (recurrent neural network) in Keras\n",
    "Predictions were made using an LSTM (long short-term memory) model. Data was lagged by 1 day, 2 day, 10 day, 4 week periods.\n",
    "\n",
    "### Train test split\n",
    "Data was split on 75:25 ratio means 75% is for training and 25% is for test\n",
    "\n",
    "### Hyperparameters¶\n",
    "Hyperparameters used for the LSTM were:\n",
    "\n",
    "LSTM cells = number of hours predicting\n",
    "\n",
    "epochs = 10\n",
    "\n",
    "batch_size = 12\n",
    "\n",
    "dropout = .3\n",
    "\n",
    "### Additional steps\n",
    "After fitting each model and model results were saved for later use.\n",
    "\n",
    "### Model evaluation\n",
    "Models were scored on RMSE, r2 score, MSE, MAE, adjusted r2 score.\n",
    "\n",
    "### Predictions and results¶\n",
    "Here are example results for modeling using the hyperparameters above. \n",
    "- The plot area is of whole data available in weather data from `2017-09-01` to `2019-09-30`\n",
    "![](img/3.png)\n",
    "\n",
    "$$Mean Square Error      = 130.74405940675533$$                  \n",
    "$$Root Mean Square Error = 11.434336859072998$$                   \n",
    "$$Mean Absolute Error   = 6.6891303464407095$$               \n",
    "$$Median Absolute Error  = 2.4006800651550293$$            \n",
    "$$R^2**                    = 0.6533891923975141$$             \n",
    "$$Adjusted R^2**           = 0.6506179481555043$$              \n",
    "\n",
    "- The plot area is for forecast data from `2019-10-01` to `2019-10-27`\n",
    "![](img/4.png)"
   ]
  },
  {
   "cell_type": "code",
   "execution_count": null,
   "metadata": {},
   "outputs": [],
   "source": []
  }
 ],
 "metadata": {
  "kernelspec": {
   "display_name": "Python 3",
   "language": "python",
   "name": "python3"
  },
  "language_info": {
   "codemirror_mode": {
    "name": "ipython",
    "version": 3
   },
   "file_extension": ".py",
   "mimetype": "text/x-python",
   "name": "python",
   "nbconvert_exporter": "python",
   "pygments_lexer": "ipython3",
   "version": "3.7.4"
  }
 },
 "nbformat": 4,
 "nbformat_minor": 2
}
